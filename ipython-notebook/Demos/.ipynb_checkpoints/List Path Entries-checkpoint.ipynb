{
 "cells": [
  {
   "cell_type": "code",
   "execution_count": 6,
   "metadata": {},
   "outputs": [],
   "source": [
    "?%env"
   ]
  },
  {
   "cell_type": "code",
   "execution_count": 7,
   "metadata": {},
   "outputs": [
    {
     "data": {
      "text/plain": [
       "'/Users/natdunn/anaconda3/bin:/Users/natdunn/.local/bin:/usr/local/bin:/usr/local/mysql/bin:/Users/natdunn/anaconda3/bin:/usr/local/bin:/usr/bin:/bin:/usr/sbin:/sbin'"
      ]
     },
     "execution_count": 7,
     "metadata": {},
     "output_type": "execute_result"
    }
   ],
   "source": [
    "%env PATH"
   ]
  },
  {
   "cell_type": "code",
   "execution_count": 9,
   "metadata": {},
   "outputs": [
    {
     "name": "stdout",
     "output_type": "stream",
     "text": [
      "1. /Users/natdunn/anaconda3/bin\n",
      "2. /Users/natdunn/.local/bin\n",
      "3. /usr/local/bin\n",
      "4. /usr/local/mysql/bin\n",
      "5. /Users/natdunn/anaconda3/bin\n",
      "6. /usr/local/bin\n",
      "7. /usr/bin\n",
      "8. /bin\n",
      "9. /usr/sbin\n",
      "10. /sbin\n"
     ]
    }
   ],
   "source": [
    "env_vars = %env\n",
    "path = env_vars['PATH'].split(':') # for Mac / Unix\n",
    "# path = env_vars['PATH'].split(';') # for Windows\n",
    "\n",
    "for i, item in enumerate(path,1):\n",
    "    print(i, '. ', item, sep='')    "
   ]
  }
 ],
 "metadata": {
  "kernelspec": {
   "display_name": "Python 3",
   "language": "python",
   "name": "python3"
  },
  "language_info": {
   "codemirror_mode": {
    "name": "ipython",
    "version": 3
   },
   "file_extension": ".py",
   "mimetype": "text/x-python",
   "name": "python",
   "nbconvert_exporter": "python",
   "pygments_lexer": "ipython3",
   "version": "3.6.3"
  }
 },
 "nbformat": 4,
 "nbformat_minor": 1
}
